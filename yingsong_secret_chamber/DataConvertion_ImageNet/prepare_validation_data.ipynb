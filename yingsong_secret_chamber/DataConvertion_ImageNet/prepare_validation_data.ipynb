{
 "cells": [
  {
   "cell_type": "code",
   "execution_count": 16,
   "metadata": {
    "collapsed": true
   },
   "outputs": [],
   "source": [
    "import os\n",
    "import sys\n"
   ]
  },
  {
   "cell_type": "code",
   "execution_count": 17,
   "metadata": {
    "collapsed": false
   },
   "outputs": [],
   "source": [
    "# the ImageNet data is pre-downloaded and stored in ILSVRC2015/\n",
    "\n",
    "DATA_DIR = os.pardir+'/ILSVRC2015/'\n",
    "SCRACH_DIR = DATA_DIR+'Data/CLS-LOC/val'\n",
    "Target_DIR = DATA_DIR+'TFRecords/'\n",
    "if not os.path.isdir(DATA_DIR):\n",
    "    print 'error: the data directory does not exist'\n",
    "if not os.path.isdir(SCRACH_DIR): os.mkdir(SCRACH_DIR)\n",
    "if not os.path.isdir(Target_DIR): os.mkdir(Target_DIR)"
   ]
  },
  {
   "cell_type": "markdown",
   "metadata": {
    "collapsed": false
   },
   "source": [
    "\n",
    "Associate the ImageNet 2012 Challenge validation data set with labels.<br/>\n",
    "The raw ImageNet validation data set is expected to reside in JPEG files\n",
    "located in the following directory structure.<br/>\n",
    " data_dir/ILSVRC2012_val_00000001.JPEG <br/>\n",
    "  ...<br/>\n",
    " data_dir/ILSVRC2012_val_00050000.JPEG<br/>\n",
    "This script moves the files into a directory structure like such:<br/>\n",
    " data_dir/n01440764/ILSVRC2012_val_00000293.JPEG<br/>\n",
    " data_dir/n01440764/ILSVRC2012_val_00000543.JPEG<br/>\n",
    " ...<br/>\n",
    "where 'n01440764' is the unique synset label associated with\n",
    "these images.<br/>\n",
    "This directory reorganization requires a mapping from validation image \n",
    "number (i.e. suffix of the original file) to the associated label. This\n",
    "is provided in the ImageNet development kit via a Matlab file.<br/>\n",
    "\n",
    "In order to make life easier and divorce ourselves from Matlab, we instead\n",
    "supply a custom text file that provides this mapping for us.<br/>\n",
    "  imagenet_2012_validation_synset_labels.txt\n"
   ]
  },
  {
   "cell_type": "code",
   "execution_count": 11,
   "metadata": {
    "collapsed": true
   },
   "outputs": [],
   "source": [
    "validation_labels_file = os.pardir+'/ILSVRC2015/Data/CLS-LOC/'+'imagenet_2012_validation_synset_labels.txt'\n",
    "\n",
    "labels = [l.strip() for l in open(validation_labels_file).readlines()]\n",
    "unique_labels = set(labels)\n"
   ]
  },
  {
   "cell_type": "code",
   "execution_count": 25,
   "metadata": {
    "collapsed": false
   },
   "outputs": [],
   "source": [
    "# Make all sub-directories in the validation data dir.\n",
    "\n",
    "for label in unique_labels:\n",
    "    labeled_data_dir = os.path.join(SCRACH_DIR,label)\n",
    "    if not os.path.isdir(labeled_data_dir):\n",
    "        os.makedirs(labeled_data_dir)\n",
    "    \n",
    "\n",
    "# Move all of the image to the appropriate sub-directory.\n",
    "for i in xrange(len(labels)):\n",
    "    basename = 'ILSVRC2012_val_000%.5d.JPEG' % (i + 1)\n",
    "    original_filename = os.path.join(SCRACH_DIR, 'val/',basename)\n",
    "    if not os.path.exists(original_filename):\n",
    "        pass #print('Failed to find: %s' % original_filename)\n",
    "    else:\n",
    "        new_filename = os.path.join(SCRACH_DIR, 'val/',labels[i], basename)\n",
    "        os.rename(original_filename, new_filename)\n"
   ]
  },
  {
   "cell_type": "code",
   "execution_count": 22,
   "metadata": {
    "collapsed": false
   },
   "outputs": [],
   "source": [
    "for label in unique_labels:\n",
    "    labeled_data_dir = os.path.join(os.pardir+'/ILSVRC2015/Annotations/CLS-LOC/val',label)\n",
    "    if not os.path.isdir(labeled_data_dir):\n",
    "        os.makedirs(labeled_data_dir)\n",
    "\n",
    "\n",
    "\n",
    "\n",
    "for i in xrange(len(labels)):\n",
    "    basename = 'ILSVRC2012_val_000%.5d.xml' % (i + 1)\n",
    "    original_filename = os.path.join(os.pardir+'/ILSVRC2015/Annotations/CLS-LOC/val',basename)\n",
    "    if not os.path.exists(original_filename):\n",
    "        pass #print('Failed to find: %s' % original_filename)\n",
    "    else:\n",
    "        new_filename = os.path.join(os.pardir+'/ILSVRC2015/Annotations/CLS-LOC/val',labels[i], basename)\n",
    "        os.rename(original_filename, new_filename)\n"
   ]
  },
  {
   "cell_type": "code",
   "execution_count": null,
   "metadata": {
    "collapsed": true
   },
   "outputs": [],
   "source": []
  }
 ],
 "metadata": {
  "anaconda-cloud": {},
  "kernelspec": {
   "display_name": "Python [conda env:Python2]",
   "language": "python",
   "name": "conda-env-Python2-py"
  },
  "language_info": {
   "codemirror_mode": {
    "name": "ipython",
    "version": 2
   },
   "file_extension": ".py",
   "mimetype": "text/x-python",
   "name": "python",
   "nbconvert_exporter": "python",
   "pygments_lexer": "ipython2",
   "version": "2.7.12"
  }
 },
 "nbformat": 4,
 "nbformat_minor": 1
}
